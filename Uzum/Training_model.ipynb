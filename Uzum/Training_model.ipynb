{
 "cells": [
  {
   "cell_type": "code",
   "execution_count": 55,
   "id": "9a4f21d4-c36f-470d-b443-0275f9e3068a",
   "metadata": {
    "tags": []
   },
   "outputs": [],
   "source": [
    "import pandas as pd\n",
    "df = pd.read_csv('train.csv')\n",
    "df = df.dropna(subset = 'positive')"
   ]
  },
  {
   "cell_type": "code",
   "execution_count": 56,
   "id": "a5620a1d-3486-4867-b322-2e5fb9142aab",
   "metadata": {
    "tags": []
   },
   "outputs": [],
   "source": [
    "train_X = df[['purchase_price_x', 'rating', 'sentiment',\n",
    "       'positive', 'negative', 'neutral']]\n",
    "train_y = df['cause']"
   ]
  },
  {
   "cell_type": "code",
   "execution_count": 57,
   "id": "2b0001e5-25e4-4cda-ae9a-cd8a9f83edfa",
   "metadata": {
    "tags": []
   },
   "outputs": [],
   "source": [
    "train_y = pd.get_dummies(train_y, dtype = int)\n",
    "cause_1 = train_y.BAD_QUALITY\n",
    "cause_2 = train_y.DEFECTED\n",
    "cause_3 = train_y.PHOTO_MISMATCH\n",
    "cause_4 = train_y.WRONG_ITEM\n",
    "cause_5 = train_y.WRONG_SIZE"
   ]
  },
  {
   "cell_type": "code",
   "execution_count": 58,
   "id": "9ddd6423-4e3a-480d-a0c7-25f32c360781",
   "metadata": {
    "tags": []
   },
   "outputs": [
    {
     "name": "stdout",
     "output_type": "stream",
     "text": [
      "0.21439261555350858\n"
     ]
    }
   ],
   "source": [
    "from sklearn.ensemble import RandomForestRegressor \n",
    "from sklearn.metrics import mean_absolute_error \n",
    " \n",
    "  \n",
    "model_1 = RandomForestRegressor(random_state=1) \n",
    "model_2 = RandomForestRegressor(random_state=1) \n",
    "model_3 = RandomForestRegressor(random_state=1) \n",
    "model_4 = RandomForestRegressor(random_state=1) \n",
    "model_5 = RandomForestRegressor(random_state=1) \n",
    " \n",
    " \n",
    "model_1.fit(train_X, cause_1) \n",
    "model_2.fit(train_X, cause_2) \n",
    "model_3.fit(train_X, cause_3) \n",
    "model_4.fit(train_X, cause_4) \n",
    "model_5.fit(train_X, cause_5) \n",
    "\n",
    " \n",
    "print(mean_absolute_error(cause_1, predictions))"
   ]
  },
  {
   "cell_type": "code",
   "execution_count": 59,
   "id": "7a4d2236-bed7-430a-8bfb-e2d1c3fabb81",
   "metadata": {
    "tags": []
   },
   "outputs": [],
   "source": [
    "test_ = pd.read_csv('test_.csv')\n",
    "test_ = test_.dropna(subset = 'positive')"
   ]
  },
  {
   "cell_type": "code",
   "execution_count": 60,
   "id": "f814a7eb-320c-45c3-b225-b94758a2e976",
   "metadata": {
    "tags": []
   },
   "outputs": [],
   "source": [
    "test_X = test_[['purchase_price_x', 'rating', 'sentiment',\n",
    "       'positive', 'negative', 'neutral']]"
   ]
  },
  {
   "cell_type": "code",
   "execution_count": 61,
   "id": "eb15c8fb-5b43-475d-ac84-b1c5d25efa38",
   "metadata": {
    "tags": []
   },
   "outputs": [],
   "source": [
    "cause_pred = pd.DataFrame({'DEFECTED':model_2.predict(test_X),'WRONG_ITEM': model_4.predict(test_X),'BAD_QUALITY': model_1.predict(test_X), 'PHOTO_MISMATCH':model_3.predict(test_X),\n",
    "                           'WRONG_SIZE':model_5.predict(test_X)})"
   ]
  },
  {
   "cell_type": "code",
   "execution_count": 62,
   "id": "2cd30ec8-8f53-41f4-8cb5-02f8f6f9fd77",
   "metadata": {
    "tags": []
   },
   "outputs": [],
   "source": [
    "final = test_[['product_id', 'order_item_id']].join(cause_pred)"
   ]
  },
  {
   "cell_type": "code",
   "execution_count": 63,
   "id": "3360d996-b2a0-47d6-939b-b3ae1f438309",
   "metadata": {
    "tags": []
   },
   "outputs": [
    {
     "data": {
      "text/html": [
       "<div>\n",
       "<style scoped>\n",
       "    .dataframe tbody tr th:only-of-type {\n",
       "        vertical-align: middle;\n",
       "    }\n",
       "\n",
       "    .dataframe tbody tr th {\n",
       "        vertical-align: top;\n",
       "    }\n",
       "\n",
       "    .dataframe thead th {\n",
       "        text-align: right;\n",
       "    }\n",
       "</style>\n",
       "<table border=\"1\" class=\"dataframe\">\n",
       "  <thead>\n",
       "    <tr style=\"text-align: right;\">\n",
       "      <th></th>\n",
       "      <th>product_id</th>\n",
       "      <th>order_item_id</th>\n",
       "      <th>DEFECTED</th>\n",
       "      <th>WRONG_ITEM</th>\n",
       "      <th>BAD_QUALITY</th>\n",
       "      <th>PHOTO_MISMATCH</th>\n",
       "      <th>WRONG_SIZE</th>\n",
       "    </tr>\n",
       "  </thead>\n",
       "  <tbody>\n",
       "    <tr>\n",
       "      <th>1</th>\n",
       "      <td>2d655ec607da015e7a3f9510f29cb00a9aec412caaf606...</td>\n",
       "      <td>26328199</td>\n",
       "      <td>0.130000</td>\n",
       "      <td>0.000000</td>\n",
       "      <td>0.015946</td>\n",
       "      <td>0.180143</td>\n",
       "      <td>0.980248</td>\n",
       "    </tr>\n",
       "    <tr>\n",
       "      <th>3</th>\n",
       "      <td>2ffb3371badee194e734205ebe9e870bb9e1857feb1e8d...</td>\n",
       "      <td>26543704</td>\n",
       "      <td>0.020000</td>\n",
       "      <td>0.102500</td>\n",
       "      <td>0.018487</td>\n",
       "      <td>0.000208</td>\n",
       "      <td>0.833259</td>\n",
       "    </tr>\n",
       "    <tr>\n",
       "      <th>4</th>\n",
       "      <td>a72f1c225a5f2ff961b709566e81f3fd0a11539deef745...</td>\n",
       "      <td>25935641</td>\n",
       "      <td>0.214864</td>\n",
       "      <td>0.171333</td>\n",
       "      <td>0.352579</td>\n",
       "      <td>0.054031</td>\n",
       "      <td>0.214203</td>\n",
       "    </tr>\n",
       "    <tr>\n",
       "      <th>7</th>\n",
       "      <td>693cc44bf058117f17acabd3150ce2235386adbc0bf0a6...</td>\n",
       "      <td>25721967</td>\n",
       "      <td>0.006316</td>\n",
       "      <td>0.007562</td>\n",
       "      <td>0.033943</td>\n",
       "      <td>0.004495</td>\n",
       "      <td>0.960703</td>\n",
       "    </tr>\n",
       "    <tr>\n",
       "      <th>8</th>\n",
       "      <td>2bbf65be15a89de96df45db094bf44aea206e2844a56fd...</td>\n",
       "      <td>25721964</td>\n",
       "      <td>0.514654</td>\n",
       "      <td>0.045778</td>\n",
       "      <td>0.402615</td>\n",
       "      <td>0.065350</td>\n",
       "      <td>0.107113</td>\n",
       "    </tr>\n",
       "    <tr>\n",
       "      <th>...</th>\n",
       "      <td>...</td>\n",
       "      <td>...</td>\n",
       "      <td>...</td>\n",
       "      <td>...</td>\n",
       "      <td>...</td>\n",
       "      <td>...</td>\n",
       "      <td>...</td>\n",
       "    </tr>\n",
       "    <tr>\n",
       "      <th>148</th>\n",
       "      <td>97b3251aeae9386d5b1b91bb33db56319871200b8feadc...</td>\n",
       "      <td>32930742</td>\n",
       "      <td>NaN</td>\n",
       "      <td>NaN</td>\n",
       "      <td>NaN</td>\n",
       "      <td>NaN</td>\n",
       "      <td>NaN</td>\n",
       "    </tr>\n",
       "    <tr>\n",
       "      <th>149</th>\n",
       "      <td>693cc44bf058117f17acabd3150ce2235386adbc0bf0a6...</td>\n",
       "      <td>32987456</td>\n",
       "      <td>NaN</td>\n",
       "      <td>NaN</td>\n",
       "      <td>NaN</td>\n",
       "      <td>NaN</td>\n",
       "      <td>NaN</td>\n",
       "    </tr>\n",
       "    <tr>\n",
       "      <th>150</th>\n",
       "      <td>693cc44bf058117f17acabd3150ce2235386adbc0bf0a6...</td>\n",
       "      <td>33166910</td>\n",
       "      <td>NaN</td>\n",
       "      <td>NaN</td>\n",
       "      <td>NaN</td>\n",
       "      <td>NaN</td>\n",
       "      <td>NaN</td>\n",
       "    </tr>\n",
       "    <tr>\n",
       "      <th>151</th>\n",
       "      <td>693cc44bf058117f17acabd3150ce2235386adbc0bf0a6...</td>\n",
       "      <td>33166909</td>\n",
       "      <td>NaN</td>\n",
       "      <td>NaN</td>\n",
       "      <td>NaN</td>\n",
       "      <td>NaN</td>\n",
       "      <td>NaN</td>\n",
       "    </tr>\n",
       "    <tr>\n",
       "      <th>152</th>\n",
       "      <td>ce1e9b0450e673f1d98dc05202f9c8c205308be86aa497...</td>\n",
       "      <td>33537046</td>\n",
       "      <td>NaN</td>\n",
       "      <td>NaN</td>\n",
       "      <td>NaN</td>\n",
       "      <td>NaN</td>\n",
       "      <td>NaN</td>\n",
       "    </tr>\n",
       "  </tbody>\n",
       "</table>\n",
       "<p>141 rows × 7 columns</p>\n",
       "</div>"
      ],
      "text/plain": [
       "                                            product_id  order_item_id  \\\n",
       "1    2d655ec607da015e7a3f9510f29cb00a9aec412caaf606...       26328199   \n",
       "3    2ffb3371badee194e734205ebe9e870bb9e1857feb1e8d...       26543704   \n",
       "4    a72f1c225a5f2ff961b709566e81f3fd0a11539deef745...       25935641   \n",
       "7    693cc44bf058117f17acabd3150ce2235386adbc0bf0a6...       25721967   \n",
       "8    2bbf65be15a89de96df45db094bf44aea206e2844a56fd...       25721964   \n",
       "..                                                 ...            ...   \n",
       "148  97b3251aeae9386d5b1b91bb33db56319871200b8feadc...       32930742   \n",
       "149  693cc44bf058117f17acabd3150ce2235386adbc0bf0a6...       32987456   \n",
       "150  693cc44bf058117f17acabd3150ce2235386adbc0bf0a6...       33166910   \n",
       "151  693cc44bf058117f17acabd3150ce2235386adbc0bf0a6...       33166909   \n",
       "152  ce1e9b0450e673f1d98dc05202f9c8c205308be86aa497...       33537046   \n",
       "\n",
       "     DEFECTED  WRONG_ITEM  BAD_QUALITY  PHOTO_MISMATCH  WRONG_SIZE  \n",
       "1    0.130000    0.000000     0.015946        0.180143    0.980248  \n",
       "3    0.020000    0.102500     0.018487        0.000208    0.833259  \n",
       "4    0.214864    0.171333     0.352579        0.054031    0.214203  \n",
       "7    0.006316    0.007562     0.033943        0.004495    0.960703  \n",
       "8    0.514654    0.045778     0.402615        0.065350    0.107113  \n",
       "..        ...         ...          ...             ...         ...  \n",
       "148       NaN         NaN          NaN             NaN         NaN  \n",
       "149       NaN         NaN          NaN             NaN         NaN  \n",
       "150       NaN         NaN          NaN             NaN         NaN  \n",
       "151       NaN         NaN          NaN             NaN         NaN  \n",
       "152       NaN         NaN          NaN             NaN         NaN  \n",
       "\n",
       "[141 rows x 7 columns]"
      ]
     },
     "execution_count": 63,
     "metadata": {},
     "output_type": "execute_result"
    }
   ],
   "source": [
    "final"
   ]
  },
  {
   "cell_type": "code",
   "execution_count": 64,
   "id": "8ef82350-9e82-474d-9e1f-c18719a910cd",
   "metadata": {
    "tags": []
   },
   "outputs": [],
   "source": [
    "csv_file_path = 'results.csv' \n",
    "final.to_csv(csv_file_path, index=True)"
   ]
  }
 ],
 "metadata": {
  "kernelspec": {
   "display_name": "Python 3 (ipykernel)",
   "language": "python",
   "name": "python3"
  },
  "language_info": {
   "codemirror_mode": {
    "name": "ipython",
    "version": 3
   },
   "file_extension": ".py",
   "mimetype": "text/x-python",
   "name": "python",
   "nbconvert_exporter": "python",
   "pygments_lexer": "ipython3",
   "version": "3.9.18"
  }
 },
 "nbformat": 4,
 "nbformat_minor": 5
}
